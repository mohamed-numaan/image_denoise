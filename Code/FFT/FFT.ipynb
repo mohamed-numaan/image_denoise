{
 "cells": [
  {
   "cell_type": "code",
   "execution_count": null,
   "id": "cf185ff0",
   "metadata": {},
   "outputs": [],
   "source": [
    "import cv2\n",
    "import numpy as np"
   ]
  },
  {
   "cell_type": "code",
   "execution_count": null,
   "id": "5223cfba",
   "metadata": {},
   "outputs": [],
   "source": [
    "# Load the image\n",
    "img = cv2.imread('fftbefore.png', 0)"
   ]
  },
  {
   "cell_type": "code",
   "execution_count": null,
   "id": "5709fd8d",
   "metadata": {},
   "outputs": [],
   "source": [
    "# Calculate the mean and standard deviation of pixel values in the image\n",
    "mean, std_dev = cv2.meanStdDev(img)"
   ]
  },
  {
   "cell_type": "code",
   "execution_count": null,
   "id": "a6eee433",
   "metadata": {},
   "outputs": [],
   "source": [
    "# Compute the noise level as the standard deviation of pixel values\n",
    "noise_level = std_dev[0][0]"
   ]
  },
  {
   "cell_type": "code",
   "execution_count": null,
   "id": "b4874e63",
   "metadata": {},
   "outputs": [],
   "source": [
    "noise_level"
   ]
  },
  {
   "cell_type": "code",
   "execution_count": null,
   "id": "a666a693",
   "metadata": {},
   "outputs": [],
   "source": [
    "import numpy as np\n",
    "import matplotlib.pyplot as plt\n",
    "from skimage.io import imread, imshow, imsave\n",
    "from skimage.color import rgb2hsv, rgb2gray, rgb2yuv\n",
    "from skimage import color, exposure, transform\n",
    "from skimage.exposure import equalize_hist"
   ]
  },
  {
   "cell_type": "code",
   "execution_count": null,
   "id": "b94b66ac",
   "metadata": {},
   "outputs": [],
   "source": [
    "#image read\n",
    "dark_image = imread('test.png')"
   ]
  },
  {
   "cell_type": "code",
   "execution_count": null,
   "id": "95781feb",
   "metadata": {},
   "outputs": [],
   "source": [
    "#plot the original image\n",
    "plt.figure(num=None, figsize=(8, 6), dpi=80)\n",
    "plt.imshow(dark_image)\n",
    "plt.show()"
   ]
  },
  {
   "cell_type": "code",
   "execution_count": null,
   "id": "f6479ef1",
   "metadata": {},
   "outputs": [],
   "source": [
    "#convert the original to grayscale\n",
    "dark_image_grey = rgb2gray(dark_image)\n",
    "plt.figure(num=None, figsize=(8, 6), dpi=80)\n",
    "plt.imshow(dark_image_grey, cmap='gray')\n",
    "#plot the grayscale image\n",
    "plt.show()"
   ]
  },
  {
   "cell_type": "code",
   "execution_count": null,
   "id": "e9e85e11",
   "metadata": {},
   "outputs": [],
   "source": [
    "imsave('fftbefore.png', dark_image_grey)"
   ]
  },
  {
   "cell_type": "code",
   "execution_count": null,
   "id": "838335b2",
   "metadata": {},
   "outputs": [],
   "source": [
    "dark_image_grey_fourier = np.fft.fftshift(np.fft.fft2(dark_image_grey))\n",
    "plt.figure(num=None, figsize=(8, 6), dpi=80)\n",
    "plt.imshow(np.log(abs(dark_image_grey_fourier)), cmap='gray')\n",
    "plt.show()"
   ]
  },
  {
   "cell_type": "code",
   "execution_count": null,
   "id": "3fb87118",
   "metadata": {},
   "outputs": [],
   "source": [
    "#convert using fft(fouier transfirmation)\n",
    "#vertical\n",
    "def fourier_masker_ver(image, i):\n",
    "    f_size = 15\n",
    "    dark_image_grey_fourier = np.fft.fftshift(np.fft.fft2(rgb2gray(image)))\n",
    "    dark_image_grey_fourier[:225, 235:240] = i\n",
    "    dark_image_grey_fourier[-225:,235:240] = i\n",
    "    fig, ax = plt.subplots(1,3,figsize=(15,15))\n",
    "    ax[0].imshow(np.log(abs(dark_image_grey_fourier)), cmap='gray')\n",
    "    ax[0].set_title('Masked Fourier for VERTICAL', fontsize = f_size)\n",
    "    ax[1].imshow(rgb2gray(image), cmap = 'gray')\n",
    "    ax[1].set_title('Greyscale Image for VERTICAL', fontsize = f_size)\n",
    "    ax[2].imshow(abs(np.fft.ifft2(dark_image_grey_fourier)), cmap='gray')\n",
    "    ax[2].set_title('Transformed Greyscale Imagefor VERTICAL', fontsize = f_size)\n",
    "    plt.show()\n",
    "    \n",
    "fourier_masker_ver(dark_image, 1)"
   ]
  },
  {
   "cell_type": "code",
   "execution_count": null,
   "id": "07f8aa3c",
   "metadata": {},
   "outputs": [],
   "source": [
    "#horizntal transformation\n",
    "def fourier_masker_hor(image, i):\n",
    "    f_size = 15\n",
    "    dark_image_grey_fourier = np.fft.fftshift(np.fft.fft2(rgb2gray(image)))\n",
    "    dark_image_grey_fourier[235:240, :230] = i\n",
    "    dark_image_grey_fourier[235:240,-230:] = i\n",
    "    fig, ax = plt.subplots(1,3,figsize=(15,15))\n",
    "    ax[0].imshow(np.log(abs(dark_image_grey_fourier)), cmap='gray')\n",
    "    ax[0].set_title('Masked Fourier for HORIZONTAL', fontsize = f_size)\n",
    "    ax[1].imshow(rgb2gray(image), cmap = 'gray')\n",
    "    ax[1].set_title('Greyscale Image for HORIZONTAL', fontsize = f_size)\n",
    "    ax[2].imshow(abs(np.fft.ifft2(dark_image_grey_fourier)), cmap='gray')\n",
    "    ax[2].set_title('Transformed Greyscale Image for HORIZONTAL', fontsize = f_size)\n",
    "    plt.show()\n",
    "fourier_masker_hor(dark_image, 1)"
   ]
  },
  {
   "cell_type": "code",
   "execution_count": null,
   "id": "71de1ee9",
   "metadata": {},
   "outputs": [],
   "source": [
    "#iterate over the image\n",
    "def fourier_iterator(image, value_list):\n",
    "    for i in value_list:\n",
    "        fourier_masker_ver(image, i)\n",
    "        #plt.show()\n",
    " \n",
    "fourier_iterator(dark_image, [0.001, 1, 100])"
   ]
  },
  {
   "cell_type": "code",
   "execution_count": null,
   "id": "cae803b1",
   "metadata": {},
   "outputs": [],
   "source": [
    "#convert to RGB\n",
    "def fourier_transform_rgb(image):\n",
    "    f_size = 25\n",
    "    transformed_channels = []\n",
    "    for i in range(3):\n",
    "        rgb_fft = np.fft.fftshift(np.fft.fft2((image[:, :, i])))\n",
    "        rgb_fft[:225, 235:237] = 1\n",
    "        rgb_fft[-225:,235:237] = 1\n",
    "        transformed_channels.append(abs(np.fft.ifft2(rgb_fft)))\n",
    "    \n",
    "    final_image = np.dstack([transformed_channels[0].astype(int), \n",
    "                             transformed_channels[1].astype(int), \n",
    "                             transformed_channels[2].astype(int)])\n",
    "    \n",
    "    fig, ax = plt.subplots(1, 2, figsize=(17,12))\n",
    "    ax[0].imshow(image)\n",
    "    ax[0].set_title('Original Image', fontsize = f_size)\n",
    "    ax[0].set_axis_off()\n",
    "    \n",
    "    ax[1].imshow(final_image)\n",
    "    ax[1].set_title('Transformed Image', fontsize = f_size)\n",
    "    ax[1].set_axis_off()\n",
    "    imsave('fftrgbafter.png',final_image)\n",
    "    \n",
    "    fig.tight_layout()\n"
   ]
  },
  {
   "cell_type": "code",
   "execution_count": null,
   "id": "b54d08dc",
   "metadata": {},
   "outputs": [],
   "source": [
    "dark_image = imread('test.png')\n",
    "fourier_transform_rgb(dark_image)"
   ]
  },
  {
   "cell_type": "code",
   "execution_count": null,
   "id": "49e19161",
   "metadata": {},
   "outputs": [],
   "source": [
    "after=imread('fftrgbafter.png')\n",
    "t_gray = rgb2gray(after)\n",
    "plt.figure(num=None, figsize=(8, 6), dpi=80)\n",
    "plt.imshow(t_gray, cmap='gray')\n",
    "#plot the grayscale image\n",
    "plt.show()"
   ]
  },
  {
   "cell_type": "code",
   "execution_count": null,
   "id": "191811c8",
   "metadata": {},
   "outputs": [],
   "source": [
    "imsave('fftafter.png', t_gray)"
   ]
  },
  {
   "cell_type": "code",
   "execution_count": null,
   "id": "85c803f0",
   "metadata": {},
   "outputs": [],
   "source": [
    "# Load the image\n",
    "img = cv2.imread('fftafter.png', 0)"
   ]
  },
  {
   "cell_type": "code",
   "execution_count": null,
   "id": "670d342b",
   "metadata": {},
   "outputs": [],
   "source": [
    "# Calculate the mean and standard deviation of pixel values in the image\n",
    "mean, std_dev = cv2.meanStdDev(img)"
   ]
  },
  {
   "cell_type": "code",
   "execution_count": null,
   "id": "45a2f416",
   "metadata": {},
   "outputs": [],
   "source": [
    "# Compute the noise level as the standard deviation of pixel values\n",
    "noise_level = std_dev[0][0]"
   ]
  },
  {
   "cell_type": "code",
   "execution_count": null,
   "id": "581739eb",
   "metadata": {},
   "outputs": [],
   "source": [
    "noise_level"
   ]
  },
  {
   "cell_type": "code",
   "execution_count": null,
   "id": "6716a2c6",
   "metadata": {},
   "outputs": [],
   "source": [
    "import cv2\n",
    "import numpy as np"
   ]
  },
  {
   "cell_type": "code",
   "execution_count": null,
   "id": "c9daf845",
   "metadata": {},
   "outputs": [],
   "source": [
    "# Load the original and compressed images\n",
    "original_image = cv2.imread('fftbefore.png')\n",
    "compressed_image = cv2.imread('fftafter.png')"
   ]
  },
  {
   "cell_type": "code",
   "execution_count": null,
   "id": "d1d88f2b",
   "metadata": {},
   "outputs": [],
   "source": [
    "# Calculate the MSE\n",
    "mse = np.mean((original_image - compressed_image) ** 2)"
   ]
  },
  {
   "cell_type": "code",
   "execution_count": null,
   "id": "ff1b8b83",
   "metadata": {},
   "outputs": [],
   "source": [
    "mse"
   ]
  },
  {
   "cell_type": "code",
   "execution_count": null,
   "id": "df6c9253",
   "metadata": {},
   "outputs": [],
   "source": [
    "# Calculate the maximum pixel value of the images\n",
    "max_pixel_value = 255"
   ]
  },
  {
   "cell_type": "code",
   "execution_count": null,
   "id": "a16ab5ae",
   "metadata": {},
   "outputs": [],
   "source": [
    "# Calculate the PSNR value\n",
    "psnr = 10 * np.log10((max_pixel_value ** 2) / mse)"
   ]
  },
  {
   "cell_type": "code",
   "execution_count": 16,
   "id": "1f4b93c8",
   "metadata": {},
   "outputs": [
    {
     "data": {
      "text/plain": [
       "29.68857822978993"
      ]
     },
     "execution_count": 16,
     "metadata": {},
     "output_type": "execute_result"
    }
   ],
   "source": [
    "psnr"
   ]
  }
 ],
 "metadata": {
  "kernelspec": {
   "display_name": "Python 3 (ipykernel)",
   "language": "python",
   "name": "python3"
  },
  "language_info": {
   "codemirror_mode": {
    "name": "ipython",
    "version": 3
   },
   "file_extension": ".py",
   "mimetype": "text/x-python",
   "name": "python",
   "nbconvert_exporter": "python",
   "pygments_lexer": "ipython3",
   "version": "3.12.7"
  }
 },
 "nbformat": 4,
 "nbformat_minor": 5
}
